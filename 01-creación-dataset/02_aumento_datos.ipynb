{
 "cells": [
  {
   "cell_type": "markdown",
   "metadata": {},
   "source": [
    "# Aumento de datos\n",
    "\n",
    "\n",
    "@Tesis: Modelo de segmentación semántica de columnas de humo derivadas de incendios forestales en México\n",
    "\n",
    "@Autor: Colvert Gomez Rubio"
   ]
  },
  {
   "cell_type": "code",
   "execution_count": 1,
   "metadata": {},
   "outputs": [],
   "source": [
    "import warnings\n",
    "warnings.filterwarnings('ignore')"
   ]
  },
  {
   "cell_type": "markdown",
   "metadata": {},
   "source": [
    "### Librerías"
   ]
  },
  {
   "cell_type": "code",
   "execution_count": 2,
   "metadata": {},
   "outputs": [],
   "source": [
    "from PIL import Image\n",
    "import numpy as np\n",
    "import os\n",
    "from tqdm import tqdm"
   ]
  },
  {
   "cell_type": "markdown",
   "metadata": {},
   "source": [
    "### Función de aumento de datos"
   ]
  },
  {
   "cell_type": "code",
   "execution_count": 3,
   "metadata": {},
   "outputs": [],
   "source": [
    "def data_augmentation(image_path, mask_path, output_dir, num_images, name):\n",
    "    \"\"\"\n",
    "    Aplica aumento de datos a una imagen y su máscara correspondiente y guarda las imágenes resultantes.\n",
    "\n",
    "    Args:\n",
    "        image_path (str): Ruta de la imagen original.\n",
    "        mask_path (str): Ruta de la máscara original.\n",
    "        output_dir (str): Directorio de salida para las imágenes aumentadas.\n",
    "        num_images (int): Número de imágenes aumentadas a generar.\n",
    "        name (str): Nombre base para las imágenes aumentadas.\n",
    "    \"\"\"\n",
    "    # abrir imagen y máscara\n",
    "    image = Image.open(image_path)\n",
    "    mask = Image.open(mask_path)\n",
    "\n",
    "    for i in range(num_images):\n",
    "        # rotar imagen y máscara\n",
    "        angle = np.random.randint(-15, 15)\n",
    "        rotated_image = image.rotate(angle, resample=Image.BILINEAR)\n",
    "        rotated_mask = mask.rotate(angle, resample=Image.NEAREST)\n",
    "\n",
    "        # aplicar volteo horizontal y vertical\n",
    "        if np.random.rand() < 0.5:\n",
    "            rotated_image = rotated_image.transpose(Image.FLIP_LEFT_RIGHT)\n",
    "            rotated_mask = rotated_mask.transpose(Image.FLIP_LEFT_RIGHT)\n",
    "        if np.random.rand() < 0.5:\n",
    "            rotated_image = rotated_image.transpose(Image.FLIP_TOP_BOTTOM)\n",
    "            rotated_mask = rotated_mask.transpose(Image.FLIP_TOP_BOTTOM)\n",
    "\n",
    "        # ajustar brillo de la imagen rotada\n",
    "        brightness_factor = np.random.uniform(0.7, 1.3)\n",
    "        adjusted_image = Image.fromarray((np.array(rotated_image) * brightness_factor).astype(np.uint8))\n",
    "\n",
    "        # guardar imágenes resultantes en el directorio de salida\n",
    "    \n",
    "        output_image_path = os.path.join(output_dir, name + f\"_{i}.png\")\n",
    "        output_mask_path = os.path.join(output_dir, name + f\"_mask_{i}.gif\")\n",
    "        adjusted_image.save(output_image_path)\n",
    "        rotated_mask.save(output_mask_path)"
   ]
  },
  {
   "cell_type": "markdown",
   "metadata": {},
   "source": [
    "### Directorios"
   ]
  },
  {
   "cell_type": "code",
   "execution_count": null,
   "metadata": {},
   "outputs": [],
   "source": [
    "image_folder = 'C:/Users/colve/OneDrive/Documentos/MEGA/Centro Geo/Tesis/WILDFIRES-SMOKE-PLUMES-SEGMENTATION/wildfires-smoke-plumes-segmentation-dataset/train/'\n",
    "mask_folder = 'C:/Users/colve/OneDrive/Documentos/MEGA/Centro Geo/Tesis/WILDFIRES-SMOKE-PLUMES-SEGMENTATION/wildfires-smoke-plumes-segmentation-dataset/train_masks/'\n",
    "output_folder = 'C:/Users/colve/OneDrive/Documentos/MEGA/Centro Geo/Tesis/WILDFIRES-SMOKE-PLUMES-SEGMENTATION/wildfires-smoke-plumes-segmentation-dataset/augmented_data/'"
   ]
  },
  {
   "cell_type": "markdown",
   "metadata": {},
   "source": [
    "### Ejecución"
   ]
  },
  {
   "cell_type": "code",
   "execution_count": 4,
   "metadata": {},
   "outputs": [
    {
     "name": "stderr",
     "output_type": "stream",
     "text": [
      "Processing images:   0%|          | 0/731 [00:00<?, ?image/s]"
     ]
    },
    {
     "name": "stderr",
     "output_type": "stream",
     "text": [
      "Processing images: 100%|██████████| 731/731 [00:06<00:00, 113.42image/s]\n"
     ]
    }
   ],
   "source": [
    "num_images = 2 # Número de trasnformaciones por imágen\n",
    "\n",
    "# Obtén la lista de archivos de imagen en la carpeta de entrada\n",
    "image_files = os.listdir(image_folder)\n",
    "\n",
    "# Realiza el aumento de datos para cada imagen y máscara\n",
    "for image_file in tqdm(image_files, desc=\"Processing images\", unit=\"image\"):\n",
    "    # Obtén las rutas de la imagen y la máscara correspondiente\n",
    "    image_path = os.path.join(image_folder, image_file)\n",
    "    mask_file = image_file.replace(\".png\", \"_mask.gif\")\n",
    "    mask_path = os.path.join(mask_folder, mask_file)\n",
    "\n",
    "    name = image_file[:-4]\n",
    "\n",
    "    # Aplica el aumento de datos\n",
    "    data_augmentation(image_path, mask_path, output_folder, num_images, name)"
   ]
  },
  {
   "cell_type": "code",
   "execution_count": null,
   "metadata": {},
   "outputs": [],
   "source": []
  }
 ],
 "metadata": {
  "kernelspec": {
   "display_name": "entornoCUDA",
   "language": "python",
   "name": "python3"
  },
  "language_info": {
   "codemirror_mode": {
    "name": "ipython",
    "version": 3
   },
   "file_extension": ".py",
   "mimetype": "text/x-python",
   "name": "python",
   "nbconvert_exporter": "python",
   "pygments_lexer": "ipython3",
   "version": "3.11.3"
  },
  "orig_nbformat": 4
 },
 "nbformat": 4,
 "nbformat_minor": 2
}
